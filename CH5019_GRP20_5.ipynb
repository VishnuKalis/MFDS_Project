{
 "cells": [
  {
   "cell_type": "code",
   "execution_count": 1,
   "metadata": {},
   "outputs": [],
   "source": [
    "import numpy as np"
   ]
  },
  {
   "cell_type": "code",
   "execution_count": 3,
   "metadata": {},
   "outputs": [],
   "source": [
    "import pandas as pd"
   ]
  },
  {
   "cell_type": "code",
   "execution_count": 4,
   "metadata": {},
   "outputs": [],
   "source": [
    "import matplotlib.pyplot as plt"
   ]
  },
  {
   "cell_type": "code",
   "execution_count": 5,
   "metadata": {},
   "outputs": [
    {
     "data": {
      "text/html": [
       "<div>\n",
       "<style scoped>\n",
       "    .dataframe tbody tr th:only-of-type {\n",
       "        vertical-align: middle;\n",
       "    }\n",
       "\n",
       "    .dataframe tbody tr th {\n",
       "        vertical-align: top;\n",
       "    }\n",
       "\n",
       "    .dataframe thead th {\n",
       "        text-align: right;\n",
       "    }\n",
       "</style>\n",
       "<table border=\"1\" class=\"dataframe\">\n",
       "  <thead>\n",
       "    <tr style=\"text-align: right;\">\n",
       "      <th></th>\n",
       "      <th>government_id</th>\n",
       "      <th>diagnosed_date</th>\n",
       "      <th>age</th>\n",
       "      <th>gender</th>\n",
       "      <th>detected_city</th>\n",
       "      <th>detected_district</th>\n",
       "      <th>detected_state</th>\n",
       "      <th>nationality</th>\n",
       "      <th>current_status</th>\n",
       "      <th>status_change_date</th>\n",
       "      <th>notes</th>\n",
       "      <th>diagnosed_timestamp</th>\n",
       "      <th>status_change_timestamp</th>\n",
       "      <th>case_value</th>\n",
       "    </tr>\n",
       "    <tr>\n",
       "      <th>id</th>\n",
       "      <th></th>\n",
       "      <th></th>\n",
       "      <th></th>\n",
       "      <th></th>\n",
       "      <th></th>\n",
       "      <th></th>\n",
       "      <th></th>\n",
       "      <th></th>\n",
       "      <th></th>\n",
       "      <th></th>\n",
       "      <th></th>\n",
       "      <th></th>\n",
       "      <th></th>\n",
       "      <th></th>\n",
       "    </tr>\n",
       "  </thead>\n",
       "  <tbody>\n",
       "    <tr>\n",
       "      <th>0</th>\n",
       "      <td>KL-TS-P1</td>\n",
       "      <td>30/01/2020</td>\n",
       "      <td>20</td>\n",
       "      <td>F</td>\n",
       "      <td>Thrissur</td>\n",
       "      <td>Thrissur</td>\n",
       "      <td>Kerala</td>\n",
       "      <td>India</td>\n",
       "      <td>Recovered</td>\n",
       "      <td>14/02/2020</td>\n",
       "      <td>Travelled from Wuhan</td>\n",
       "      <td>2020-01-30</td>\n",
       "      <td>2020-02-14</td>\n",
       "      <td>1</td>\n",
       "    </tr>\n",
       "    <tr>\n",
       "      <th>1</th>\n",
       "      <td>KL-AL-P1</td>\n",
       "      <td>02/02/2020</td>\n",
       "      <td>NaN</td>\n",
       "      <td>NaN</td>\n",
       "      <td>Alappuzha</td>\n",
       "      <td>Alappuzha</td>\n",
       "      <td>Kerala</td>\n",
       "      <td>India</td>\n",
       "      <td>Recovered</td>\n",
       "      <td>14/02/2020</td>\n",
       "      <td>Travelled from Wuhan</td>\n",
       "      <td>2020-02-02</td>\n",
       "      <td>2020-02-14</td>\n",
       "      <td>1</td>\n",
       "    </tr>\n",
       "    <tr>\n",
       "      <th>2</th>\n",
       "      <td>KL-KS-P1</td>\n",
       "      <td>03/02/2020</td>\n",
       "      <td>NaN</td>\n",
       "      <td>NaN</td>\n",
       "      <td>Kasaragod</td>\n",
       "      <td>Kasaragod</td>\n",
       "      <td>Kerala</td>\n",
       "      <td>India</td>\n",
       "      <td>Recovered</td>\n",
       "      <td>14/02/2020</td>\n",
       "      <td>Travelled from Wuhan</td>\n",
       "      <td>2020-02-03</td>\n",
       "      <td>2020-02-14</td>\n",
       "      <td>1</td>\n",
       "    </tr>\n",
       "    <tr>\n",
       "      <th>3</th>\n",
       "      <td>DL-P1</td>\n",
       "      <td>02/03/2020</td>\n",
       "      <td>45</td>\n",
       "      <td>M</td>\n",
       "      <td>East Delhi (Mayur Vihar)</td>\n",
       "      <td>East Delhi</td>\n",
       "      <td>Delhi</td>\n",
       "      <td>India</td>\n",
       "      <td>Recovered</td>\n",
       "      <td>15/03/2020</td>\n",
       "      <td>Travelled from Austria, Italy</td>\n",
       "      <td>2020-03-02</td>\n",
       "      <td>2020-03-15</td>\n",
       "      <td>1</td>\n",
       "    </tr>\n",
       "    <tr>\n",
       "      <th>4</th>\n",
       "      <td>TS-P1</td>\n",
       "      <td>02/03/2020</td>\n",
       "      <td>24</td>\n",
       "      <td>M</td>\n",
       "      <td>Hyderabad</td>\n",
       "      <td>Hyderabad</td>\n",
       "      <td>Telangana</td>\n",
       "      <td>India</td>\n",
       "      <td>Recovered</td>\n",
       "      <td>02/03/2020</td>\n",
       "      <td>Travelled from Dubai to Bangalore on 20th Feb,...</td>\n",
       "      <td>2020-03-02</td>\n",
       "      <td>2020-03-02</td>\n",
       "      <td>1</td>\n",
       "    </tr>\n",
       "  </tbody>\n",
       "</table>\n",
       "</div>"
      ],
      "text/plain": [
       "   government_id diagnosed_date  age gender             detected_city  \\\n",
       "id                                                                      \n",
       "0       KL-TS-P1     30/01/2020   20      F                  Thrissur   \n",
       "1       KL-AL-P1     02/02/2020  NaN    NaN                 Alappuzha   \n",
       "2       KL-KS-P1     03/02/2020  NaN    NaN                 Kasaragod   \n",
       "3          DL-P1     02/03/2020   45      M  East Delhi (Mayur Vihar)   \n",
       "4          TS-P1     02/03/2020   24      M                 Hyderabad   \n",
       "\n",
       "   detected_district detected_state nationality current_status  \\\n",
       "id                                                               \n",
       "0           Thrissur         Kerala       India      Recovered   \n",
       "1          Alappuzha         Kerala       India      Recovered   \n",
       "2          Kasaragod         Kerala       India      Recovered   \n",
       "3         East Delhi          Delhi       India      Recovered   \n",
       "4          Hyderabad      Telangana       India      Recovered   \n",
       "\n",
       "   status_change_date                                              notes  \\\n",
       "id                                                                         \n",
       "0          14/02/2020                               Travelled from Wuhan   \n",
       "1          14/02/2020                               Travelled from Wuhan   \n",
       "2          14/02/2020                               Travelled from Wuhan   \n",
       "3          15/03/2020                      Travelled from Austria, Italy   \n",
       "4          02/03/2020  Travelled from Dubai to Bangalore on 20th Feb,...   \n",
       "\n",
       "   diagnosed_timestamp status_change_timestamp  case_value  \n",
       "id                                                          \n",
       "0           2020-01-30              2020-02-14           1  \n",
       "1           2020-02-02              2020-02-14           1  \n",
       "2           2020-02-03              2020-02-14           1  \n",
       "3           2020-03-02              2020-03-15           1  \n",
       "4           2020-03-02              2020-03-02           1  "
      ]
     },
     "execution_count": 5,
     "metadata": {},
     "output_type": "execute_result"
    }
   ],
   "source": [
    "individual_df = pd.read_csv('IndividualDetails.csv', index_col = 0)\n",
    "individual_df['diagnosed_timestamp'] = pd.to_datetime(individual_df.diagnosed_date, dayfirst=True)\n",
    "individual_df['status_change_timestamp'] = pd.to_datetime(individual_df.status_change_date, dayfirst=True)\n",
    "individual_df['case_value'] = [1]*len(individual_df.iloc[:,1])\n",
    "individual_df.sort_values(by=['diagnosed_timestamp'])\n",
    "individual_df.head()"
   ]
  },
  {
   "cell_type": "code",
   "execution_count": 13,
   "metadata": {
    "scrolled": true
   },
   "outputs": [],
   "source": [
    "active_df = individual_df[\n",
    "                    (\n",
    "                        (individual_df['status_change_timestamp'] <= '2020-03-27') & \n",
    "                        (individual_df['current_status'] != 'Recovered') &\n",
    "                        (individual_df['current_status'] != 'Deceased') & \n",
    "                        (individual_df['current_status'] != 'Migrated')\n",
    "                    )\n",
    "                            |\n",
    "                    (\n",
    "                        (individual_df['status_change_timestamp'] >= '2020-03-27') & \n",
    "                        (individual_df['diagnosed_timestamp'] <= '2020-03-27')\n",
    "                    )\n",
    "    ]\n",
    "active_df = active_df.dropna(subset=['detected_city'])"
   ]
  },
  {
   "cell_type": "code",
   "execution_count": 14,
   "metadata": {},
   "outputs": [
    {
     "data": {
      "text/plain": [
       "9"
      ]
     },
     "execution_count": 14,
     "metadata": {},
     "output_type": "execute_result"
    }
   ],
   "source": [
    "sum1 = 0\n",
    "for i in active_df['detected_city'].value_counts():\n",
    "    if i >= 10:\n",
    "        sum1 +=1\n",
    "sum1"
   ]
  },
  {
   "cell_type": "code",
   "execution_count": 15,
   "metadata": {},
   "outputs": [],
   "source": [
    "gk = active_df.groupby(['detected_state','detected_city'], as_index= False).sum()\n",
    "gk = gk[gk['case_value']>=10]"
   ]
  },
  {
   "cell_type": "code",
   "execution_count": 16,
   "metadata": {},
   "outputs": [
    {
     "data": {
      "text/plain": [
       "Maharashtra    3\n",
       "Rajasthan      1\n",
       "Karnataka      1\n",
       "Gujarat        1\n",
       "Kerala         1\n",
       "Haryana        1\n",
       "Telangana      1\n",
       "Name: detected_state, dtype: int64"
      ]
     },
     "execution_count": 16,
     "metadata": {},
     "output_type": "execute_result"
    }
   ],
   "source": [
    "gk['detected_state'].value_counts()"
   ]
  },
  {
   "cell_type": "code",
   "execution_count": 17,
   "metadata": {},
   "outputs": [
    {
     "data": {
      "text/plain": [
       "Maharashtra      7\n",
       "Tamil Nadu       3\n",
       "Rajasthan        1\n",
       "Delhi            1\n",
       "Gujarat          1\n",
       "Uttar Pradesh    1\n",
       "Telangana        1\n",
       "Kerala           1\n",
       "Karnataka        1\n",
       "Name: detected_state, dtype: int64"
      ]
     },
     "execution_count": 17,
     "metadata": {},
     "output_type": "execute_result"
    }
   ],
   "source": [
    "active_df = individual_df[\n",
    "                    (\n",
    "                        (individual_df['status_change_timestamp'] <= '2020-04-03') & \n",
    "                        (individual_df['current_status'] != 'Recovered') &\n",
    "                        (individual_df['current_status'] != 'Deceased') & \n",
    "                        (individual_df['current_status'] != 'Migrated')\n",
    "                    )\n",
    "                            |\n",
    "                    (\n",
    "                        (individual_df['status_change_timestamp'] >= '2020-04-03') & \n",
    "                        (individual_df['diagnosed_timestamp'] <= '2020-04-03')\n",
    "                    )\n",
    "    ]\n",
    "active_df = active_df.dropna(subset=['detected_city'])\n",
    "\n",
    "sum1 = 0\n",
    "for i in active_df['detected_city'].value_counts():\n",
    "    if i >= 10:\n",
    "        sum1 +=1\n",
    "sum1\n",
    "gk = active_df.groupby(['detected_state','detected_city'], as_index= False).sum()\n",
    "gk = gk[gk['case_value']>=10]\n",
    "gk['detected_state'].value_counts()"
   ]
  },
  {
   "cell_type": "code",
   "execution_count": 18,
   "metadata": {},
   "outputs": [
    {
     "data": {
      "text/plain": [
       "Maharashtra       11\n",
       "Andhra Pradesh     3\n",
       "Tamil Nadu         3\n",
       "Rajasthan          2\n",
       "Karnataka          1\n",
       "Uttar Pradesh      1\n",
       "Punjab             1\n",
       "Odisha             1\n",
       "Gujarat            1\n",
       "Delhi              1\n",
       "Kerala             1\n",
       "Telangana          1\n",
       "Name: detected_state, dtype: int64"
      ]
     },
     "execution_count": 18,
     "metadata": {},
     "output_type": "execute_result"
    }
   ],
   "source": [
    "active_df = individual_df[\n",
    "                    (\n",
    "                        (individual_df['status_change_timestamp'] <= '2020-04-10') & \n",
    "                        (individual_df['current_status'] != 'Recovered') &\n",
    "                        (individual_df['current_status'] != 'Deceased') & \n",
    "                        (individual_df['current_status'] != 'Migrated')\n",
    "                    )\n",
    "                            |\n",
    "                    (\n",
    "                        (individual_df['status_change_timestamp'] >= '2020-04-10') & \n",
    "                        (individual_df['diagnosed_timestamp'] <= '2020-04-10')\n",
    "                    )\n",
    "    ]\n",
    "active_df = active_df.dropna(subset=['detected_city'])\n",
    "\n",
    "sum1 = 0\n",
    "for i in active_df['detected_city'].value_counts():\n",
    "    if i >= 10:\n",
    "        sum1 +=1\n",
    "sum1\n",
    "gk = active_df.groupby(['detected_state','detected_city'], as_index= False).sum()\n",
    "gk = gk[gk['case_value']>=10]\n",
    "gk['detected_state'].value_counts()"
   ]
  },
  {
   "cell_type": "code",
   "execution_count": null,
   "metadata": {},
   "outputs": [],
   "source": []
  },
  {
   "cell_type": "code",
   "execution_count": null,
   "metadata": {},
   "outputs": [],
   "source": []
  },
  {
   "cell_type": "code",
   "execution_count": null,
   "metadata": {},
   "outputs": [],
   "source": []
  }
 ],
 "metadata": {
  "kernelspec": {
   "display_name": "Python 3",
   "language": "python",
   "name": "python3"
  },
  "language_info": {
   "codemirror_mode": {
    "name": "ipython",
    "version": 3
   },
   "file_extension": ".py",
   "mimetype": "text/x-python",
   "name": "python",
   "nbconvert_exporter": "python",
   "pygments_lexer": "ipython3",
   "version": "3.7.6"
  }
 },
 "nbformat": 4,
 "nbformat_minor": 4
}
